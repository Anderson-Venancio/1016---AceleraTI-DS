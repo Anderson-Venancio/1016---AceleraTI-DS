{
  "nbformat": 4,
  "nbformat_minor": 0,
  "metadata": {
    "colab": {
      "provenance": []
    },
    "kernelspec": {
      "name": "python3",
      "display_name": "Python 3"
    },
    "language_info": {
      "name": "python"
    }
  },
  "cells": [
    {
      "cell_type": "markdown",
      "source": [
        "\n",
        "# Aula 01 - NumPy (Arrays) + Introdução ao Git\n",
        "\n",
        "Documentação do Numpy: https://numpy.org/doc/stable/user/index.html\n",
        "\n",
        "Então vamos instalar essa bagaça!"
      ],
      "metadata": {
        "id": "awMK31QRVYpR"
      }
    },
    {
      "cell_type": "code",
      "execution_count": null,
      "metadata": {
        "colab": {
          "base_uri": "https://localhost:8080/"
        },
        "id": "T5iPfN_9VUpe",
        "outputId": "c0a722e1-7a0d-4a1c-91d9-40d930b09f8d"
      },
      "outputs": [
        {
          "output_type": "stream",
          "name": "stdout",
          "text": [
            "Requirement already satisfied: numpy in /usr/local/lib/python3.10/dist-packages (1.22.4)\n"
          ]
        }
      ],
      "source": [
        "pip install numpy"
      ]
    },
    {
      "cell_type": "markdown",
      "source": [
        "Por que utilizar o NumPy no lugar de listas?"
      ],
      "metadata": {
        "id": "XY1nF2IeXd6l"
      }
    },
    {
      "cell_type": "code",
      "source": [
        "import numpy as np\n",
        "\n",
        "lista_notas = [3.4, 5.6, 7.8, 0.2, 5.6, 8.4, 1.5]\n",
        "\n",
        "# for nota in lista_notas:\n",
        "#   nota += 1\n",
        "\n",
        "# Acessando posição por posição da lista e alterando diretamente nela\n",
        "# for i in range(len(lista_notas)):\n",
        "#   lista_notas[i] += 1\n",
        "\n",
        "# for i, _ in enumerate(lista_notas):\n",
        "#   lista_notas[i] += 1\n",
        "\n",
        "# Sobrescrevendo a variável original com uma nova lista alterada com base na original\n",
        "# lista_notas = [nota + 1 for nota in lista_notas]\n",
        "\n",
        "print(lista_notas)\n",
        "print(type(lista_notas))\n",
        "\n",
        "lista_notas = np.array(lista_notas)\n",
        "\n",
        "print(lista_notas)\n",
        "print(type(lista_notas))\n",
        "\n",
        "lista_notas += 1\n",
        "\n",
        "lista_notas *= 2\n",
        "\n",
        "lista_notas /= 1.8\n",
        "\n",
        "# Todas as operações matemáticas agora podem ser feitas diretamente na variável que guarda o ndarray (+, -, *, /, **)\n",
        "# lista_notas[3] += 1\n",
        "\n",
        "print(lista_notas)"
      ],
      "metadata": {
        "colab": {
          "base_uri": "https://localhost:8080/"
        },
        "id": "jbyG9yYFXghU",
        "outputId": "bb10d62d-9030-4c60-ae12-e88a2f0e05cc"
      },
      "execution_count": null,
      "outputs": [
        {
          "output_type": "stream",
          "name": "stdout",
          "text": [
            "[3.4, 5.6, 7.8, 0.2, 5.6, 8.4, 1.5]\n",
            "<class 'list'>\n",
            "[3.4 5.6 7.8 0.2 5.6 8.4 1.5]\n",
            "<class 'numpy.ndarray'>\n",
            "[ 4.88888889  7.33333333  9.77777778  1.33333333  7.33333333 10.44444444\n",
            "  2.77777778]\n"
          ]
        }
      ]
    },
    {
      "cell_type": "markdown",
      "source": [
        "\n",
        "\n",
        "Eu consigo somar duas listas?"
      ],
      "metadata": {
        "id": "bdZnZ2SVV_CG"
      }
    },
    {
      "cell_type": "code",
      "source": [
        "lista_notas_extra = [0.2, 0.7, 0.3, 0.7, 0.7, 0]\n",
        "\n",
        "# Aqui estou simplesmente printando o resultado da operação e não sobrescrevendo o array original\n",
        "print(lista_notas + lista_notas_extra)\n",
        "\n",
        "# O código acima resulta em erro, pois os operandos tem tamanhos diferentes\n",
        "print(lista_notas - lista_notas_extra)\n",
        "print(lista_notas * lista_notas_extra)\n",
        "print(lista_notas)\n"
      ],
      "metadata": {
        "colab": {
          "base_uri": "https://localhost:8080/",
          "height": 235
        },
        "id": "sKG6qJjtXAp8",
        "outputId": "de9fd240-1374-45f5-ea79-ff3eced82c23"
      },
      "execution_count": null,
      "outputs": [
        {
          "output_type": "error",
          "ename": "ValueError",
          "evalue": "ignored",
          "traceback": [
            "\u001b[0;31m---------------------------------------------------------------------------\u001b[0m",
            "\u001b[0;31mValueError\u001b[0m                                Traceback (most recent call last)",
            "\u001b[0;32m<ipython-input-23-70b9847bd636>\u001b[0m in \u001b[0;36m<cell line: 4>\u001b[0;34m()\u001b[0m\n\u001b[1;32m      2\u001b[0m \u001b[0;34m\u001b[0m\u001b[0m\n\u001b[1;32m      3\u001b[0m \u001b[0;31m# Aqui estou simplesmente printando o resultado da operação e não sobrescrevendo o array original\u001b[0m\u001b[0;34m\u001b[0m\u001b[0;34m\u001b[0m\u001b[0m\n\u001b[0;32m----> 4\u001b[0;31m \u001b[0mprint\u001b[0m\u001b[0;34m(\u001b[0m\u001b[0mlista_notas\u001b[0m \u001b[0;34m+\u001b[0m \u001b[0mlista_notas_extra\u001b[0m\u001b[0;34m)\u001b[0m\u001b[0;34m\u001b[0m\u001b[0;34m\u001b[0m\u001b[0m\n\u001b[0m\u001b[1;32m      5\u001b[0m \u001b[0mprint\u001b[0m\u001b[0;34m(\u001b[0m\u001b[0mlista_notas\u001b[0m \u001b[0;34m-\u001b[0m \u001b[0mlista_notas_extra\u001b[0m\u001b[0;34m)\u001b[0m\u001b[0;34m\u001b[0m\u001b[0;34m\u001b[0m\u001b[0m\n\u001b[1;32m      6\u001b[0m \u001b[0mprint\u001b[0m\u001b[0;34m(\u001b[0m\u001b[0mlista_notas\u001b[0m \u001b[0;34m*\u001b[0m \u001b[0mlista_notas_extra\u001b[0m\u001b[0;34m)\u001b[0m\u001b[0;34m\u001b[0m\u001b[0;34m\u001b[0m\u001b[0m\n",
            "\u001b[0;31mValueError\u001b[0m: operands could not be broadcast together with shapes (7,) (6,) "
          ]
        }
      ]
    },
    {
      "cell_type": "markdown",
      "source": [
        "Como eu faço pra inicializar um array já sabendo o tamanho dele?"
      ],
      "metadata": {
        "id": "4o2DU7THzKgJ"
      }
    },
    {
      "cell_type": "code",
      "source": [
        "lista_notas_extra = [0.3] * len(lista_notas)\n",
        "lista_notas_extra = np.full(len(lista_notas), 0.3)\n",
        "lista_notas_extra2 = np.zeros(len(lista_notas))\n",
        "lista_notas_extra3 = np.ones(len(lista_notas))\n",
        "print(lista_notas_extra)\n",
        "print(lista_notas_extra2)\n",
        "print(lista_notas_extra3)\n",
        "\n",
        "print(\"\\n\")\n",
        "print(\"Número de dimensões:\", np.ndim(lista_notas_extra3))\n",
        "print(\"Número de elementos em cada dimensão:\", np.shape(lista_notas_extra3))\n",
        "print(\"\\n\")\n",
        "\n",
        "# Aqui estou simplesmente printando o resultado da operação e não sobrescrevendo o array original\n",
        "print(lista_notas + lista_notas_extra)\n",
        "\n",
        "# O código acima resulta em erro, pois os operandos tem tamanhos diferentes\n",
        "print(lista_notas - lista_notas_extra)\n",
        "print(lista_notas * lista_notas_extra)\n",
        "print(lista_notas)\n"
      ],
      "metadata": {
        "colab": {
          "base_uri": "https://localhost:8080/"
        },
        "id": "_dVa3pa2F-J6",
        "outputId": "415648c5-3ded-400c-e4f1-e9b3ad624ae5"
      },
      "execution_count": null,
      "outputs": [
        {
          "output_type": "stream",
          "name": "stdout",
          "text": [
            "[0.3 0.3 0.3 0.3 0.3 0.3 0.3]\n",
            "[0. 0. 0. 0. 0. 0. 0.]\n",
            "[1. 1. 1. 1. 1. 1. 1.]\n",
            "\n",
            "\n",
            "Número de dimensões: 1\n",
            "Número de elementos em cada dimensão: (7,)\n",
            "\n",
            "\n",
            "[ 5.18888889  7.63333333 10.07777778  1.63333333  7.63333333 10.74444444\n",
            "  3.07777778]\n",
            "[ 4.58888889  7.03333333  9.47777778  1.03333333  7.03333333 10.14444444\n",
            "  2.47777778]\n",
            "[1.46666667 2.2        2.93333333 0.4        2.2        3.13333333\n",
            " 0.83333333]\n",
            "[ 4.88888889  7.33333333  9.77777778  1.33333333  7.33333333 10.44444444\n",
            "  2.77777778]\n"
          ]
        }
      ]
    },
    {
      "cell_type": "markdown",
      "source": [
        "Okay, mas eu quero começar a filtrar o conteúdo do meu array..."
      ],
      "metadata": {
        "id": "SeK8wa_PWLJX"
      }
    },
    {
      "cell_type": "code",
      "source": [
        "for nota in lista_notas:\n",
        "  if nota > 6:\n",
        "    print(nota)\n",
        "\n",
        "print(lista_notas > 6)\n",
        "filtro = lista_notas > 6 # condição lógica\n",
        "\n",
        "# Quando eu quiser filtrar o conteúdo do meu array com base em uma comparação, eu aplico a seguinte sintaxe\n",
        "print(lista_notas[filtro])"
      ],
      "metadata": {
        "colab": {
          "base_uri": "https://localhost:8080/"
        },
        "id": "ACFIsINFXBTl",
        "outputId": "aa18ce90-aa6d-49dd-94ec-f16b20db84e9"
      },
      "execution_count": null,
      "outputs": [
        {
          "output_type": "stream",
          "name": "stdout",
          "text": [
            "7.333333333333333\n",
            "9.777777777777779\n",
            "7.333333333333333\n",
            "10.444444444444445\n",
            "[False  True  True False  True  True False]\n",
            "[ 7.33333333  9.77777778  7.33333333 10.44444444]\n"
          ]
        }
      ]
    },
    {
      "cell_type": "markdown",
      "source": [
        "Mas eu quero aplicar mais de uma condição, e agora?"
      ],
      "metadata": {
        "id": "7gN0cjYAWXUA"
      }
    },
    {
      "cell_type": "code",
      "source": [
        "# filtro_faixa = 6 < lista_notas < 9 -> esta linha dá ruim, porque esta operação conjunta não foi implementada para o ndarray\n",
        "# filtro_faixa = lista_notas > 6 and lista_notas < 9 -> esta linha também dá ruim...\n",
        "filtro_faixa = (lista_notas > 6) & (lista_notas < 9) # and\n",
        "print(filtro_faixa)\n",
        "print(lista_notas[filtro_faixa])\n",
        "\n",
        "lista_notas_final = np.array([7, 6, 7, 8, 6, 7, 5])\n",
        "filtro_faixa = (lista_notas > 5) | (lista_notas_final >= 7) # or\n",
        "print(filtro_faixa)\n",
        "print(lista_notas[filtro_faixa])"
      ],
      "metadata": {
        "id": "VyCDhEWAXB0a"
      },
      "execution_count": null,
      "outputs": []
    },
    {
      "cell_type": "markdown",
      "source": [
        "# Aula 02 - NumPy (Arrays/Matrix/Tensor)"
      ],
      "metadata": {
        "id": "l1neXmqBWcBV"
      }
    },
    {
      "cell_type": "markdown",
      "source": [
        "Vamos imaginar que temos um array de notas de um único aluno..."
      ],
      "metadata": {
        "id": "Rx0vPttXzjH2"
      }
    },
    {
      "cell_type": "code",
      "source": [
        "array_aluno = np.array([6.7, 3.2, 8.5])\n",
        "print(array_aluno)"
      ],
      "metadata": {
        "id": "X7tobyrMXCV_",
        "colab": {
          "base_uri": "https://localhost:8080/"
        },
        "outputId": "38bdd636-36d5-4044-b43e-3d58ad085fd5"
      },
      "execution_count": null,
      "outputs": [
        {
          "output_type": "stream",
          "name": "stdout",
          "text": [
            "[6.7 3.2 8.5]\n"
          ]
        }
      ]
    },
    {
      "cell_type": "markdown",
      "source": [
        "Mas e se tivéssemos mais de um alunos?"
      ],
      "metadata": {
        "id": "0mKN-1rDWmJ0"
      }
    },
    {
      "cell_type": "code",
      "source": [
        "matrix_alunos = np.array([\n",
        "    [6.7, 3.2, 8.5],\n",
        "    [3.1, 3.7, 2.6],\n",
        "    [8.7, 9.1, 7.4],\n",
        "    [0.2, 0, 2],\n",
        "])\n",
        "print(matrix_alunos)\n",
        "print(type(matrix_alunos))\n",
        "\n",
        "lista_alunos = [6.7, 3.2, 8.5, 3.1, 3.7, 2.6, 8.7, 9.1, 7.4, 0.2, 0, 2,]\n",
        "matrix_alunos = np.array(lista_alunos).reshape(4, 3)\n",
        "# matrix_alunos = np.array(lista_alunos).reshape() -> Não funciona! É necessário definir sempre quantas linhas e colunas vamos utilizar\n",
        "print(matrix_alunos)\n",
        "\n",
        "print(matrix_alunos * 1.2)\n",
        "# print(matrix_alunos + [0.5, 0.3, 0, 0.2]) -> Não funciona, pois precisa ter o mesmo tamanho da segunda dimensão da matriz\n",
        "print(matrix_alunos + [0.5, 0.3, 0])"
      ],
      "metadata": {
        "id": "Lwe78sinXCzs",
        "colab": {
          "base_uri": "https://localhost:8080/"
        },
        "outputId": "a27e34ef-76cb-4328-fd0c-f94a038e5a5a"
      },
      "execution_count": null,
      "outputs": [
        {
          "output_type": "stream",
          "name": "stdout",
          "text": [
            "[[6.7 3.2 8.5]\n",
            " [3.1 3.7 2.6]\n",
            " [8.7 9.1 7.4]\n",
            " [0.2 0.  2. ]]\n",
            "<class 'numpy.ndarray'>\n",
            "[[6.7 3.2 8.5]\n",
            " [3.1 3.7 2.6]\n",
            " [8.7 9.1 7.4]\n",
            " [0.2 0.  2. ]]\n",
            "[[ 8.04  3.84 10.2 ]\n",
            " [ 3.72  4.44  3.12]\n",
            " [10.44 10.92  8.88]\n",
            " [ 0.24  0.    2.4 ]]\n",
            "[[7.2 3.5 8.5]\n",
            " [3.6 4.  2.6]\n",
            " [9.2 9.4 7.4]\n",
            " [0.7 0.3 2. ]]\n"
          ]
        }
      ]
    },
    {
      "cell_type": "markdown",
      "source": [
        "Não gostei, eu quero que as provas sejam as linhas e os alunos as colunas..."
      ],
      "metadata": {
        "id": "GoWzznQj0xM5"
      }
    },
    {
      "cell_type": "code",
      "source": [
        "matrix_alunos_transposta = np.array([\n",
        "    # [6.7, 3.2, 8.5],\n",
        "    # [3.1, 3.7, 2.6],\n",
        "    # [8.7, 9.1, 7.4],\n",
        "    # [0.2, 0, 2],\n",
        "    [6.7, 3.1, 8.7, 0.2], # P1\n",
        "    [3.2, 3.7, 9.1, 0], # P2\n",
        "    [8.5, 2.6, 7.4, 2], # P3\n",
        "])\n",
        "print(matrix_alunos_transposta)\n",
        "print(matrix_alunos.T)\n",
        "print(matrix_alunos)\n",
        "\n",
        "print(\"Acessando a segunda nota do terceiro aluno:\", matrix_alunos[2][1])\n",
        "print(\"Acessando a segunda nota do terceiro aluno:\", matrix_alunos[2, 1])\n",
        "print(\"Acessando a segunda nota do terceiro aluno:\", matrix_alunos.T[1][2])\n",
        "print(\"Acessando a segunda nota do terceiro aluno:\", matrix_alunos.T[1, 2])\n",
        "\n",
        "pesos_array = np.array([2, 3, 4])\n",
        "print(pesos_array)\n",
        "print(matrix_alunos * [2, 3, 4])\n",
        "\n",
        "produto_escalar = matrix_alunos @ pesos_array # soma das notas multiplicadas pelos seus respectivos pesos\n",
        "# produto_escalar = matrix_alunos.dot(pesos_array) # soma das notas multiplicadas pelos seus respectivos pesos\n",
        "print(produto_escalar)\n",
        "\n",
        "soma_dos_pesos = pesos_array.sum()\n",
        "# print(sum(pesos_array))\n",
        "media_dos_alunos = produto_escalar/soma_dos_pesos\n",
        "print('Média da turma:', media_dos_alunos.sum()/4)\n",
        "\n",
        "media_da_turma = produto_escalar.sum()/(pesos_array.sum() * 4)\n",
        "print('Média da turma:', media_da_turma)\n",
        "\n",
        "print(matrix_alunos.T.sum()) # Somamos todos os valores da matriz\n",
        "print(matrix_alunos.T.sum(axis=1)) # Somamos os valores da matriz por linha\n",
        "print(matrix_alunos.T.sum(axis=0)) # Somamos os valores da matriz por coluna\n",
        "\n",
        "print(\"Média de todos os valores da matriz:\", matrix_alunos.mean())\n",
        "print(\"Média para cada linha da matriz:\", matrix_alunos.mean(axis=1))\n",
        "print(\"Média para cada coluna da matriz:\", matrix_alunos.mean(axis=0))\n",
        "\n",
        "print(\"A menor nota dentre as notas de cada aluno:\", matrix_alunos.min(axis=1))\n",
        "print(\"A maior nota dentre todas as notas:\", matrix_alunos.max())\n",
        "print(\"A maior média dentre os alunos:\", matrix_alunos.mean(axis=1).max())"
      ],
      "metadata": {
        "colab": {
          "base_uri": "https://localhost:8080/"
        },
        "id": "fXo_VKqh02ID",
        "outputId": "45c80729-6d03-4b4c-e828-b071c6773c09"
      },
      "execution_count": null,
      "outputs": [
        {
          "output_type": "stream",
          "name": "stdout",
          "text": [
            "[[6.7 3.1 8.7 0.2]\n",
            " [3.2 3.7 9.1 0. ]\n",
            " [8.5 2.6 7.4 2. ]]\n",
            "[[6.7 3.1 8.7 0.2]\n",
            " [3.2 3.7 9.1 0. ]\n",
            " [8.5 2.6 7.4 2. ]]\n",
            "[[6.7 3.2 8.5]\n",
            " [3.1 3.7 2.6]\n",
            " [8.7 9.1 7.4]\n",
            " [0.2 0.  2. ]]\n",
            "Acessando a segunda nota do terceiro aluno: 9.1\n",
            "Acessando a segunda nota do terceiro aluno: 9.1\n",
            "Acessando a segunda nota do terceiro aluno: 9.1\n",
            "Acessando a segunda nota do terceiro aluno: 9.1\n",
            "[2 3 4]\n",
            "[[13.4  9.6 34. ]\n",
            " [ 6.2 11.1 10.4]\n",
            " [17.4 27.3 29.6]\n",
            " [ 0.4  0.   8. ]]\n",
            "[57.  27.7 74.3  8.4]\n",
            "Média da turma: 4.6499999999999995\n",
            "Média da turma: 4.65\n",
            "55.199999999999996\n",
            "[18.7 16.  20.5]\n",
            "[18.4  9.4 25.2  2.2]\n",
            "4.6\n",
            "[6.13333333 3.13333333 8.4        0.73333333]\n",
            "[4.675 4.    5.125]\n",
            "[3.2 2.6 7.4 0. ]\n",
            "9.1\n",
            "8.399999999999999\n"
          ]
        }
      ]
    },
    {
      "cell_type": "markdown",
      "source": [
        "Relizando operações aritméticas:"
      ],
      "metadata": {
        "id": "4ouCgTnb2qy8"
      }
    },
    {
      "cell_type": "code",
      "source": [],
      "metadata": {
        "id": "jvACuHiv2yNr"
      },
      "execution_count": null,
      "outputs": []
    },
    {
      "cell_type": "markdown",
      "source": [
        "Mas e se tivéssemos cada aluno com múltiplas disciplinas?"
      ],
      "metadata": {
        "id": "kKZM0cGx0okv"
      }
    },
    {
      "cell_type": "code",
      "source": [
        "tensor_alunos = np.array([\n",
        "    [[6.7, 3.2, 8.5], [6.7, 3.2, 8.5], [6.7, 3.2, 8.5]],\n",
        "    [[3.1, 3.7, 2.6], [3.1, 3.7, 2.6], [3.1, 3.7, 2.6]],\n",
        "    [[8.7, 9.1, 7.4], [8.7, 9.1, 7.4], [8.7, 9.1, 7.4],],\n",
        "    [[0.2, 0, 2], [0.2, 0, 2], [0.2, 0, 2]],\n",
        "])\n",
        "print(\"Um tensor de 3 dimensões:\\n\", tensor_alunos)\n",
        "print(\"Número de dimensões do tensor:\", np.ndim(tensor_alunos))\n",
        "print(\"Tamanho de cada dimensão do tensor:\", np.shape(tensor_alunos))"
      ],
      "metadata": {
        "colab": {
          "base_uri": "https://localhost:8080/"
        },
        "id": "H6D1PX_r0vEE",
        "outputId": "caf9b9f8-95df-465d-86c8-277ea37a61b4"
      },
      "execution_count": null,
      "outputs": [
        {
          "output_type": "stream",
          "name": "stdout",
          "text": [
            "Um tensor de 3 dimensões:\n",
            " [[[6.7 3.2 8.5]\n",
            "  [6.7 3.2 8.5]\n",
            "  [6.7 3.2 8.5]]\n",
            "\n",
            " [[3.1 3.7 2.6]\n",
            "  [3.1 3.7 2.6]\n",
            "  [3.1 3.7 2.6]]\n",
            "\n",
            " [[8.7 9.1 7.4]\n",
            "  [8.7 9.1 7.4]\n",
            "  [8.7 9.1 7.4]]\n",
            "\n",
            " [[0.2 0.  2. ]\n",
            "  [0.2 0.  2. ]\n",
            "  [0.2 0.  2. ]]]\n",
            "Número de dimensões do tensor: 3\n",
            "Tamanho de cada dimensão do tensor: (4, 3, 3)\n"
          ]
        }
      ]
    },
    {
      "cell_type": "markdown",
      "source": [
        "Agora é pra quem gosta de matemática!\n"
      ],
      "metadata": {
        "id": "U4SW_EX11kJM"
      }
    },
    {
      "cell_type": "code",
      "source": [
        "import matplotlib.pyplot as plt\n",
        "\n",
        "# Gera valores dentro de uma faixa de dois números, dado um certo passo\n",
        "array_angulos = np.arange(0, 2*np.pi, 0.1)\n",
        "array_x = array_angulos\n",
        "array_y = np.sin(array_angulos)\n",
        "\n",
        "plt.plot(array_x, array_y)"
      ],
      "metadata": {
        "colab": {
          "base_uri": "https://localhost:8080/",
          "height": 447
        },
        "id": "pjhv43tR12N2",
        "outputId": "6aab80e6-8ab8-44c4-c2ba-ee9b75e82c60"
      },
      "execution_count": null,
      "outputs": [
        {
          "output_type": "execute_result",
          "data": {
            "text/plain": [
              "[<matplotlib.lines.Line2D at 0x7d2ad9d1ec20>]"
            ]
          },
          "metadata": {},
          "execution_count": 45
        },
        {
          "output_type": "display_data",
          "data": {
            "text/plain": [
              "<Figure size 640x480 with 1 Axes>"
            ],
            "image/png": "[encoded data removed]"
          },
          "metadata": {}
        }
      ]
    },
    {
      "cell_type": "markdown",
      "source": [
        "Vamos visualizar algumas distribuições estatísticas:"
      ],
      "metadata": {
        "id": "6_zMq-jb5Gcz"
      }
    },
    {
      "cell_type": "code",
      "source": [
        "random_array = np.random.random_sample(7)\n",
        "print(random_array)\n",
        "\n",
        "generator = np.random.default_rng()\n",
        "print(random_array)\n",
        "\n",
        "array_normal = generator.normal(size=10000)\n",
        "# print(array_normal)\n",
        "\n",
        "plt.hist(array_normal, bins=100)"
      ],
      "metadata": {
        "colab": {
          "base_uri": "https://localhost:8080/",
          "height": 1000
        },
        "id": "TUS_xnSH5KPz",
        "outputId": "2ee79a14-b9ce-4237-8a41-bd6b6933585f"
      },
      "execution_count": null,
      "outputs": [
        {
          "output_type": "stream",
          "name": "stdout",
          "text": [
            "[0.74653068 0.22394729 0.10787873 0.09943186 0.31595387 0.47695454\n",
            " 0.63352529]\n",
            "[0.74653068 0.22394729 0.10787873 0.09943186 0.31595387 0.47695454\n",
            " 0.63352529]\n"
          ]
        },
        {
          "output_type": "execute_result",
          "data": {
            "text/plain": [
              "(array([  1.,   0.,   0.,   0.,   0.,   1.,   1.,   3.,   1.,   3.,   3.,\n",
              "          4.,   5.,   4.,   7.,   9.,  11.,   7.,  17.,  16.,  13.,  19.,\n",
              "         30.,  31.,  43.,  42.,  56.,  53.,  66.,  77.,  73.,  97., 115.,\n",
              "         85., 143., 156., 148., 161., 174., 192., 159., 232., 219., 208.,\n",
              "        264., 244., 237., 245., 293., 281., 258., 287., 297., 284., 305.,\n",
              "        279., 270., 274., 266., 251., 241., 252., 228., 196., 204., 200.,\n",
              "        160., 157., 156., 146., 147., 102.,  79.,  93.,  83.,  72.,  60.,\n",
              "         65.,  48.,  50.,  47.,  31.,  22.,  23.,  23.,  14.,  18.,  14.,\n",
              "          6.,   8.,  12.,   4.,   3.,   4.,   3.,   2.,   4.,   2.,   0.,\n",
              "          1.]),\n",
              " array([-3.78997514, -3.71798465, -3.64599416, -3.57400367, -3.50201318,\n",
              "        -3.43002269, -3.3580322 , -3.28604171, -3.21405122, -3.14206073,\n",
              "        -3.07007024, -2.99807975, -2.92608926, -2.85409877, -2.78210828,\n",
              "        -2.71011779, -2.6381273 , -2.56613681, -2.49414632, -2.42215583,\n",
              "        -2.35016534, -2.27817485, -2.20618436, -2.13419387, -2.06220338,\n",
              "        -1.99021289, -1.91822241, -1.84623192, -1.77424143, -1.70225094,\n",
              "        -1.63026045, -1.55826996, -1.48627947, -1.41428898, -1.34229849,\n",
              "        -1.270308  , -1.19831751, -1.12632702, -1.05433653, -0.98234604,\n",
              "        -0.91035555, -0.83836506, -0.76637457, -0.69438408, -0.62239359,\n",
              "        -0.5504031 , -0.47841261, -0.40642212, -0.33443163, -0.26244114,\n",
              "        -0.19045065, -0.11846016, -0.04646967,  0.02552082,  0.09751131,\n",
              "         0.1695018 ,  0.24149229,  0.31348277,  0.38547326,  0.45746375,\n",
              "         0.52945424,  0.60144473,  0.67343522,  0.74542571,  0.8174162 ,\n",
              "         0.88940669,  0.96139718,  1.03338767,  1.10537816,  1.17736865,\n",
              "         1.24935914,  1.32134963,  1.39334012,  1.46533061,  1.5373211 ,\n",
              "         1.60931159,  1.68130208,  1.75329257,  1.82528306,  1.89727355,\n",
              "         1.96926404,  2.04125453,  2.11324502,  2.18523551,  2.257226  ,\n",
              "         2.32921649,  2.40120698,  2.47319747,  2.54518795,  2.61717844,\n",
              "         2.68916893,  2.76115942,  2.83314991,  2.9051404 ,  2.97713089,\n",
              "         3.04912138,  3.12111187,  3.19310236,  3.26509285,  3.33708334,\n",
              "         3.40907383]),\n",
              " <BarContainer object of 100 artists>)"
            ]
          },
          "metadata": {},
          "execution_count": 54
        },
        {
          "output_type": "display_data",
          "data": {
            "text/plain": [
              "<Figure size 640x480 with 1 Axes>"
            ],
            "image/png": "[encoded data removed]"
          },
          "metadata": {}
        }
      ]
    },
    {
      "cell_type": "markdown",
      "source": [
        "Pra quem gosta de álgebra linear, vamos imaginar uma matriz de pesos e uma matriz de alunos por disciplinas, sendo o conteúdo a média do aluno naquela disciplina:"
      ],
      "metadata": {
        "id": "lIbFnRaV12uk"
      }
    },
    {
      "cell_type": "code",
      "source": [],
      "metadata": {
        "id": "R44LW0_K2c3i"
      },
      "execution_count": null,
      "outputs": []
    },
    {
      "cell_type": "markdown",
      "source": [
        "Aplicando filtros em matrizes:"
      ],
      "metadata": {
        "id": "IN6sFiP_nCOT"
      }
    },
    {
      "cell_type": "code",
      "source": [
        "filtro = matrix_alunos > 5\n",
        "print(\"Resultado do filtro:\\n\", matrix_alunos > 5)\n",
        "\n",
        "print(\"Filtro aplicado à matriz:\", matrix_alunos[filtro])\n",
        "\n",
        "notas_prim_aluno = matrix_alunos[0]\n",
        "print(notas_prim_aluno)\n",
        "print(notas_prim_aluno > 6)\n",
        "print(\"Todas as notas do primeiro aluno que são maiores que 6:\", notas_prim_aluno[notas_prim_aluno > 6])\n",
        "print(\"As notas dos alunos que possuem pelo menos uma nota maior que 6:\\n\", matrix_alunos[(matrix_alunos > 6).any(axis=1)])\n",
        "# print(matrix_alunos[(matrix_alunos > 9).any(axis=0)]) -> NÃO FUNCIONOU\n",
        "\n",
        "print((matrix_alunos > 9).any(axis=0))\n",
        "print(matrix_alunos.T)\n",
        "print(\"Me mostre as notas da prova que teve pelo menos uma das notas maiores que 9:\", matrix_alunos.T[(matrix_alunos > 9).any(axis=0)])\n",
        "print(\"As notas dos alunos que possuem todas as notas maiores que 6:\\n\", matrix_alunos[(matrix_alunos > 6).all(axis=1)])"
      ],
      "metadata": {
        "colab": {
          "base_uri": "https://localhost:8080/"
        },
        "id": "qmMs0RwxnHJA",
        "outputId": "d1a2daa4-4028-49ce-c64e-8c7ba2315152"
      },
      "execution_count": null,
      "outputs": [
        {
          "output_type": "stream",
          "name": "stdout",
          "text": [
            "Resultado do filtro:\n",
            " [[ True False  True]\n",
            " [False False False]\n",
            " [ True  True  True]\n",
            " [False False False]]\n",
            "Filtro aplicado à matriz: [6.7 8.5 8.7 9.1 7.4]\n",
            "[6.7 3.2 8.5]\n",
            "[ True False  True]\n",
            "Todas as notas do primeiro aluno que são maiores que 6: [6.7 8.5]\n",
            "As notas dos alunos que possuem pelo menos uma nota maior que 6:\n",
            " [[6.7 3.2 8.5]\n",
            " [8.7 9.1 7.4]]\n",
            "[False  True False]\n",
            "[[6.7 3.1 8.7 0.2]\n",
            " [3.2 3.7 9.1 0. ]\n",
            " [8.5 2.6 7.4 2. ]]\n",
            "Me mostre as notas da prova que teve pelo menos uma das notas maiores que 9: [[3.2 3.7 9.1 0. ]]\n",
            "As notas dos alunos que possuem todas as notas maiores que 6:\n",
            " [[8.7 9.1 7.4]]\n"
          ]
        }
      ]
    },
    {
      "cell_type": "markdown",
      "source": [
        "ATIVIDADE DE FIXAÇÃO 1\n",
        "\n",
        "- Criar um array bidimensional com dados diferentes dos utilizados em sala;\n",
        "- Obter dados estatísticos (pelo menos 3, uma com axis=1, a outra com axis = 0 e a última sem axis);\n",
        "- Obter a transposta da matriz e realizar uma operação com ela\n",
        "- Realizar um produto escalar entre duas matrizes ou de um array com uma matriz\n",
        "- Criar um filtro para a sua matriz\n",
        "- Realizar alguma operação aritmética (número com matriz, array com matriz, etc.)\n",
        "\n",
        "OBS.: Entregar pelo gitlab\n",
        "\n",
        "EXTRA (200XP): Os dados devem vir de algum arquivo externo."
      ],
      "metadata": {
        "id": "XHhJ4iLCuHl3"
      }
    },
    {
      "cell_type": "code",
      "source": [],
      "metadata": {
        "id": "GXmqPCheuMVN"
      },
      "execution_count": null,
      "outputs": []
    }
  ]
}